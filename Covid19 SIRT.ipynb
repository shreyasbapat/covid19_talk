{
 "cells": [
  {
   "cell_type": "markdown",
   "metadata": {
    "slideshow": {
     "slide_type": "slide"
    }
   },
   "source": [
    "# COVID19 Dynamics on Career\n",
    "\n",
    "## Shreyas Bapat\n",
    "\n",
    "### Slides : [covid19.shreyasb.dev](https://covid19.shreyasb.dev)\n",
    "\n",
    "<a href=\"https://iitmandi.ac.in\"><img style='float: left; width: 25%; margin-top: 60px; height: 20%;' src='images/iitmandi.png'/></a>\n",
    "\n",
    "<a href=\"https://furrytails.in\"><img style='float: right; width: 25%; margin-top: 60px; height: 20%;' src='images/ft.png'/></a>\n",
    "\n",
    "<a href=\"https://einsteinpy.org\"><img style='float: right; width: 25%; margin-top: 115px; height: 20%; margin-right: 10%;' src='images/epy.png'/></a>"
   ]
  },
  {
   "cell_type": "markdown",
   "metadata": {
    "slideshow": {
     "slide_type": "slide"
    }
   },
   "source": [
    "# Me\n",
    "\n",
    "I am the Lead Developer of The EinsteinPy Project. Currently working for a Singapore based cloud computing company called Semut. I am a Managing Member of Python Software Foundation. Also an amateur astronomer as the sun sets (I photograph and simulate black holes :p). \n",
    "\n",
    "<img style='float: right; width: 50%; margin-top: 10px; height: 50%;' src='images/shreyas.jpg'/>\n",
    "\n",
    "<p style=\"text-align: left;\"> Find me online: <br>\n",
    "<ul>\n",
    "  <li><a href=\"https://shreyasb.com\">shreyasb.com</a></li>\n",
    "  <li><a href=\"https://twitter.com/astroshreyas\">@astroshreyas</a> on Twitter</li>\n",
    "  <li><a href=\"mailto:hello@shreyasb.com\">hello@shreyasb.com</a> on Email</li>\n",
    "  <li><a href=\"https://github.com/shreyasbapat\">shreyasbapat</a> on GitHub</li>\n",
    "</ul>\n",
    "</p>\n",
    "\n",
    "\n",
    "\n"
   ]
  },
  {
   "cell_type": "markdown",
   "metadata": {
    "slideshow": {
     "slide_type": "slide"
    }
   },
   "source": [
    "# Shockwaves of COVID19\n",
    "\n",
    "<img style='float: right; width: 50%; margin-top: 50px; height: 50%;' src='images/news1.png'/>\n",
    "\n",
    "<img style='float: left; width: 50%; margin-top: 60px; height: 50%;' src='images/news2.png'/>\n",
    "\n",
    "<img style='float: right; width: 50%; margin-top: 160px; height: 50%;' src='images/news3.png'/>\n",
    "\n",
    "<img style='float: left; width: 50%; margin-top: 60px; height: 50%;' src='images/news4.png'/>"
   ]
  },
  {
   "cell_type": "markdown",
   "metadata": {
    "slideshow": {
     "slide_type": "slide"
    }
   },
   "source": [
    "# Economic Slowdowns. Or Shutdowns?\n",
    "\n",
    "\n",
    "<img style='float: right; width: 50%; margin-top: 50px; height: 50%;' src='images/ecopred.jpeg'/>\n",
    "\n",
    "<img style='float: left; width: 50%; margin-top: 50px; height: 50%;' src='images/ecofore.jpeg'/>\n"
   ]
  },
  {
   "cell_type": "markdown",
   "metadata": {
    "slideshow": {
     "slide_type": "slide"
    }
   },
   "source": [
    "# Repercussions\n",
    "\n",
    "* Large number of Layoffs. Large companies struggling to sustain.\n",
    "* Almost 3.3 Crore jobs lost only in USA\n",
    "* Once in a 100 year event.\n",
    "* Inflation could go sky high!\n",
    "* World Oil Crash\n",
    "* Production almost ~0"
   ]
  },
  {
   "cell_type": "markdown",
   "metadata": {
    "slideshow": {
     "slide_type": "slide"
    }
   },
   "source": [
    "# So what then? Does that mean we are doomed?\n",
    "\n",
    "<img style='float: right; margin-right: 40%;' src='https://media.giphy.com/media/jpculrdad561Z8nLJ5/giphy.gif'/>"
   ]
  },
  {
   "cell_type": "markdown",
   "metadata": {
    "slideshow": {
     "slide_type": "slide"
    }
   },
   "source": [
    "# On the positive side, here are IMF Predictions for GDP Growth Rate\n",
    "\n",
    "![imf](images/imf1.png)\n",
    "\n",
    "Source : [https://www.imf.org/external/datamapper/NGDP_RPCH@WEO/OEMDC/ADVEC/WEOWORLD](https://www.imf.org/external/datamapper/NGDP_RPCH@WEO/OEMDC/ADVEC/WEOWORLD)"
   ]
  },
  {
   "cell_type": "markdown",
   "metadata": {
    "collapsed": true,
    "slideshow": {
     "slide_type": "slide"
    }
   },
   "source": [
    "# How to find a Job 101\n",
    "\n",
    "* Find a company that is not hit due to the pandemic\n",
    "* Find a role which is needed for the survival (even if not expansion)\n",
    "* Every other company is running on reserves these days. They will still hire the people who will make them survive the pandemic and the economic depression which will follow.\n",
    "* Build up skills that matter. Companies are always looking for people who have the required skills. \n",
    "* Network! Network! and Network!"
   ]
  },
  {
   "cell_type": "markdown",
   "metadata": {
    "slideshow": {
     "slide_type": "slide"
    }
   },
   "source": [
    "# How to Network? \n",
    "\n",
    "<img style='float: right; margin-right: 23%;' src='https://media.giphy.com/media/3o6gbchrcNIt4Ma8Tu/giphy.gif'/>\n"
   ]
  },
  {
   "cell_type": "markdown",
   "metadata": {
    "slideshow": {
     "slide_type": "slide"
    }
   },
   "source": [
    "* Create a **GitHub** Profile and contribute to open source software (If you want a computer science job) [Because why not?]\n",
    "* Network on **LinkedIn** (Most Popular)\n",
    "* Do some impressive work. Some project / Internship.\n",
    "* Be active on some of the online communities. \n",
    "* Attend online **conferences**. Upcoming [PyCon India 2020](https://in.pycon.org/2020/) , [Scipy 2020, Austin (Texas)](https://www.scipy2020.scipy.org/). These have job boards. Plenty of jobs, talent hungry companies. Find a conference in your domain."
   ]
  },
  {
   "cell_type": "markdown",
   "metadata": {
    "slideshow": {
     "slide_type": "slide"
    }
   },
   "source": [
    "# Further Studies\n",
    "\n",
    "- A Master's degree only adds value to your profile. There are a few places to get a good masters degree.\n",
    "    - IITs in India : They offer excellent programs, lot of research funding. And after all that, great placements.\n",
    "    - IISc Bengaluru : The best institute in India for Science and technology.\n",
    "    - IIMs (I have a very little or no idea)\n",
    "    - TIFR (For Pure sciences)\n"
   ]
  },
  {
   "cell_type": "markdown",
   "metadata": {
    "slideshow": {
     "slide_type": "slide"
    }
   },
   "source": [
    "# Any other options?\n",
    "\n",
    "<img style='float: right; margin-right: 25%;' src='https://media.giphy.com/media/l2JeiTcMLs6bGxEnm/giphy.gif' class='center'/>"
   ]
  },
  {
   "cell_type": "markdown",
   "metadata": {
    "slideshow": {
     "slide_type": "slide"
    }
   },
   "source": [
    "# Finding a Grad School outside India\n",
    "\n",
    "You should start by reading this : [http://precog.iiitd.edu.in/graduate-school-faqs.html](http://precog.iiitd.edu.in/graduate-school-faqs.html)\n",
    "\n",
    "\n",
    "<img style='float: center;' src='images/pk.png'/>\n",
    "\n",
    "This is an excellent article by [Prof. Ponnurangam Kumaraguru](https://www.iiitd.ac.in/pk) (IIIT Delhi). "
   ]
  },
  {
   "cell_type": "markdown",
   "metadata": {
    "slideshow": {
     "slide_type": "slide"
    }
   },
   "source": [
    "## Possible and most popular options: \n",
    "\n",
    "* **Germany** - TU9, RWTH, Max Planck Institute etc. (Free Education)\n",
    "* **UK** - University of Edinburgh, Bristol, Oxford, Imperial College etc. (1 Year Master's Programs)\n",
    "* **Rest of Europe** - Politecnico di Milano, ETH Zurich, KTH Royal etc. (Easy Student Visa, and EU work visa)\n",
    "* **Canada** - University of Toronto, University Of British Columbia etc. (Easy Student Visa)\n",
    "* **USA** - All Ivy League, MIT, Stanford etc. (Very competitive first tier, difficult visa), High oppotunities of employment. "
   ]
  },
  {
   "cell_type": "markdown",
   "metadata": {
    "slideshow": {
     "slide_type": "slide"
    }
   },
   "source": [
    "# Is that it? Is there a way I can do something else? - Startup!\n",
    "\n",
    "<img style='float: right; margin-right: 23%;' src='https://media.giphy.com/media/aE2COaSyInnm8/giphy.gif' class='center'/>\n"
   ]
  },
  {
   "cell_type": "markdown",
   "metadata": {
    "slideshow": {
     "slide_type": "slide"
    }
   },
   "source": [
    "# Open a Startup  \n",
    "\n",
    "<img style='float: right; margin-right: 20%;' src='https://media.giphy.com/media/3oz8xR9wKr8TaazlQc/giphy.gif' class='center'/>\n",
    "\n",
    "<br>\n",
    "\n",
    "### P.S. : This GIF can only be a reality after years of hardwork, smartwork and luck."
   ]
  },
  {
   "cell_type": "markdown",
   "metadata": {
    "slideshow": {
     "slide_type": "slide"
    }
   },
   "source": [
    "# Ease of Doing Business in India\n",
    "\n",
    "<img style='float: right; margin-right: 15%;' src='images/graph.png' class='center'/>\n",
    "\n",
    "\n",
    "### Have a look at the data here: https://en.wikipedia.org/wiki/Ease_of_doing_business_index\n",
    "\n",
    "### Observations: \n",
    "Significant improvements in the rankings since last few years. Government of India really focusing on making the process easier. Also see: [Startup India](https://www.startupindia.gov.in/)"
   ]
  },
  {
   "cell_type": "markdown",
   "metadata": {
    "slideshow": {
     "slide_type": "slide"
    }
   },
   "source": [
    "![startup](images/start.png)\n",
    "\n",
    "### [How to open a startup in India](https://www.failory.com/blog/how-to-start-a-startup-in-india)"
   ]
  },
  {
   "cell_type": "markdown",
   "metadata": {
    "slideshow": {
     "slide_type": "slide"
    }
   },
   "source": [
    "![suppply](images/supply.png)"
   ]
  },
  {
   "cell_type": "markdown",
   "metadata": {
    "slideshow": {
     "slide_type": "slide"
    }
   },
   "source": [
    "# Recent Advancements\n",
    "\n",
    "- Global Tenders Disallowed. Tenders upto 200 Crore to be given to Indian Firms.\n",
    "- India becomes world's second largest PPE and N95 Mask Producer. \n",
    "- Rs 50,000 crore equity infusion by government in MSMEs\n",
    "- India Becomes world's second largest smartphone manufacturer.\n",
    "- Startups and Private companies allowed on Interplanetary ISRO Missions (Space opened for Private Industry)\n",
    "- Defence Manufacturing to involve Public Private Partnership.\n"
   ]
  },
  {
   "cell_type": "markdown",
   "metadata": {
    "slideshow": {
     "slide_type": "slide"
    }
   },
   "source": [
    "# India is changing, at a very rapid pace\n",
    "\n",
    "## Now is the time to be a part of it! \n",
    "\n",
    "<img style='float: right; margin-right: 25%;' src='https://media.giphy.com/media/11MKLWSDvMVSp2/giphy.gif' class='center'/>\n",
    "\n"
   ]
  },
  {
   "cell_type": "markdown",
   "metadata": {
    "slideshow": {
     "slide_type": "slide"
    }
   },
   "source": [
    "<img style='float: right; margin-right: 25%;' src='https://media.giphy.com/media/XHVmD4RyXgSjd8aUMb/giphy.gif' class='center'/>\n"
   ]
  }
 ],
 "metadata": {
  "celltoolbar": "Slideshow",
  "kernelspec": {
   "display_name": "Python 3",
   "language": "python",
   "name": "python3"
  },
  "language_info": {
   "codemirror_mode": {
    "name": "ipython",
    "version": 3
   },
   "file_extension": ".py",
   "mimetype": "text/x-python",
   "name": "python",
   "nbconvert_exporter": "python",
   "pygments_lexer": "ipython3",
   "version": "3.7.5"
  }
 },
 "nbformat": 4,
 "nbformat_minor": 1
}
