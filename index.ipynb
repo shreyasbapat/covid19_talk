{
 "cells": [
  {
   "cell_type": "markdown",
   "metadata": {
    "slideshow": {
     "slide_type": "slide"
    }
   },
   "source": [
    "# COVID19 Dynamics on Career\n",
    "\n",
    "## Shreyas Bapat\n",
    "\n",
    "### Slides : [covid19.shreyasb.dev](https://covid19.shreyasb.dev)\n",
    "\n",
    "<a href=\"https://iitmandi.ac.in\"><img style='float: left; width: 25%; margin-top: 60px; height: 20%;' src='images/iitmandi.png'/></a>\n",
    "\n",
    "<a href=\"https://furrytails.in\"><img style='float: right; width: 25%; margin-top: 60px; height: 20%;' src='images/ft.png'/></a>\n",
    "\n",
    "<a href=\"https://einsteinpy.org\"><img style='float: right; width: 25%; margin-top: 115px; height: 20%; margin-right: 10%;' src='images/epy.png'/></a>"
   ]
  },
  {
   "cell_type": "markdown",
   "metadata": {
    "slideshow": {
     "slide_type": "slide"
    }
   },
   "source": [
    "# Me\n",
    "\n",
    "I am the Lead Developer of The EinsteinPy Project. I work for a Singapore based cloud company. I am a Managing Member of Python Software Foundation. Also an amateur astronomer as the sun sets (I photograph and simulate black holes :p). \n",
    "\n",
    "<img style='float: right; width: 50%; margin-top: 10px; height: 50%;' src='images/shreyas.jpg'/>\n",
    "\n",
    "<p style=\"text-align: left;\"> Find me online: <br>\n",
    "<ul>\n",
    "  <li><a href=\"https://shreyasb.com\">shreyasb.com</a></li>\n",
    "  <li><a href=\"https://twitter.com/astroshreyas\">@astroshreyas</a> on Twitter</li>\n",
    "  <li><a href=\"mailto:hello@shreyasb.com\">hello@shreyasb.com</a> on Email</li>\n",
    "  <li><a href=\"https://github.com/shreyasbapat\">shreyasbapat</a> on GitHub</li>\n",
    "</ul>\n",
    "</p>\n",
    "\n",
    "\n",
    "\n"
   ]
  },
  {
   "cell_type": "markdown",
   "metadata": {
    "slideshow": {
     "slide_type": "slide"
    }
   },
   "source": [
    "# Another slide, with columns!\n",
    "\n",
    "<div class='left'>\n",
    "\n",
    "This is on the right!\n",
    "\n",
    "</div>\n",
    "\n",
    "<div class='right'>\n",
    "\n",
    "This is on the left!\n",
    "\n",
    "</div>\n"
   ]
  },
  {
   "cell_type": "markdown",
   "metadata": {
    "slideshow": {
     "slide_type": "slide"
    }
   },
   "source": [
    "# Equations and Stuff!\n",
    "\n",
    "<p style=\"text-align: center;\"> This text is at the top.</p>\n",
    "\n",
    "<div class='left' style=\"border-right: solid\">\n",
    "\n",
    "These are some equations:\n",
    "\n",
    "$F \\approx 3 \\times 10^7$ ergs s<sup>-1</sup> cm <sup>-2</sup>,\n",
    "\n",
    "<br/>\n",
    "\n",
    "$F_{AR} \\approx 10^3 - 10^4$ ergs s<sup>-1</sup> cm <sup>-2</sup>,\n",
    "\n",
    "</div>\n",
    "\n",
    "<div class='right'>\n",
    "\n",
    "$\\rho_0 = 23.6 m_p N_e$\n",
    "\n",
    "<br/>\n",
    "\n",
    "LOOK Numbers!\n",
    "\n",
    "</div>\n",
    "\n",
    "<div style=\"clear: both;\"></div>\n",
    "\n",
    "\n",
    "## Markdown!\n",
    "\n",
    "\n",
    "Gone back to plain markdown now, you can't have markdown in html block elements (live div's).\n"
   ]
  },
  {
   "cell_type": "markdown",
   "metadata": {
    "slideshow": {
     "slide_type": "slide"
    }
   },
   "source": [
    "# Code!"
   ]
  },
  {
   "cell_type": "code",
   "execution_count": 5,
   "metadata": {
    "collapsed": true,
    "slideshow": {
     "slide_type": "slide"
    }
   },
   "outputs": [],
   "source": [
    "# it's a notebook after all\n",
    "\n",
    "def my_awesome_function(awesomeness):\n",
    "    \"\"\"\n",
    "    You are awesome.\n",
    "    \"\"\"\n",
    "    print(\"Hello, you awesome person.\", awesomeness)"
   ]
  },
  {
   "cell_type": "code",
   "execution_count": 6,
   "metadata": {
    "slideshow": {
     "slide_type": "slide"
    }
   },
   "outputs": [
    {
     "name": "stdout",
     "output_type": "stream",
     "text": [
      "Hello, you awesome person. Awesome!\n"
     ]
    }
   ],
   "source": [
    "my_awesome_function(\"Awesome!\")"
   ]
  }
 ],
 "metadata": {
  "celltoolbar": "Slideshow",
  "kernelspec": {
   "display_name": "Python 3",
   "language": "python",
   "name": "python3"
  },
  "language_info": {
   "codemirror_mode": {
    "name": "ipython",
    "version": 3
   },
   "file_extension": ".py",
   "mimetype": "text/x-python",
   "name": "python",
   "nbconvert_exporter": "python",
   "pygments_lexer": "ipython3",
   "version": "3.7.5"
  }
 },
 "nbformat": 4,
 "nbformat_minor": 1
}
